{
 "cells": [
  {
   "cell_type": "code",
   "execution_count": 106,
   "id": "4603df1a-46e7-4d8b-85e1-6ea7f0127fc9",
   "metadata": {},
   "outputs": [],
   "source": [
    "import time\n",
    "import joblib\n",
    "import os\n",
    "import os.path as osp\n",
    "import tensorflow as tf\n",
    "import torch\n",
    "from spinup import EpochLogger\n",
    "from spinup.utils.logx import restore_tf_graph"
   ]
  },
  {
   "cell_type": "code",
   "execution_count": 107,
   "id": "08a82476-515c-430c-bf6e-1b17c017b5b2",
   "metadata": {},
   "outputs": [],
   "source": [
    "import matplotlib.pyplot as plt\n",
    "from pyvirtualdisplay import Display"
   ]
  },
  {
   "cell_type": "code",
   "execution_count": 108,
   "id": "69a5f26f-87c7-4008-84fb-3b2d079d92e8",
   "metadata": {},
   "outputs": [
    {
     "data": {
      "text/plain": [
       "<pyvirtualdisplay.display.Display at 0x7fd0c6104a20>"
      ]
     },
     "execution_count": 108,
     "metadata": {},
     "output_type": "execute_result"
    }
   ],
   "source": [
    "display = Display(visible=0, size=(1400, 900))\n",
    "display.start()"
   ]
  },
  {
   "cell_type": "code",
   "execution_count": 109,
   "id": "4f392e95-efc9-41df-8ba1-bd803ff32d97",
   "metadata": {},
   "outputs": [],
   "source": [
    "is_ipython = 'inline' in plt.get_backend()\n",
    "if is_ipython:\n",
    "    from IPython import display\n",
    "\n",
    "plt.ion()"
   ]
  },
  {
   "cell_type": "code",
   "execution_count": 110,
   "id": "f887d61b-e631-4333-92c4-e1c9d89a7336",
   "metadata": {},
   "outputs": [],
   "source": [
    "# variables\n",
    "## target file path\n",
    "fpath = '/workspaces/play-spinningup-with-docker/spinningup/data/installtest/installtest_s0'\n",
    "length = 0\n",
    "episodes = 10\n",
    "norender = False\n",
    "itr_num = -1\n",
    "deterministic = False"
   ]
  },
  {
   "cell_type": "code",
   "execution_count": 111,
   "id": "410e295c-cd74-4121-a34f-c6eb090c9996",
   "metadata": {},
   "outputs": [],
   "source": [
    "itr = itr_num if itr_num >=0 else 'last'"
   ]
  },
  {
   "cell_type": "code",
   "execution_count": 112,
   "id": "9a6f8cc2-2403-463e-b1b2-0fb9f9813dc9",
   "metadata": {},
   "outputs": [],
   "source": [
    "def load_tf_policy(fpath, itr, deterministic=False):\n",
    "    \"\"\" Load a tensorflow policy saved with Spinning Up Logger.\"\"\"\n",
    "\n",
    "    fname = osp.join(fpath, 'tf1_save'+itr)\n",
    "    print('\\n\\nLoading from %s.\\n\\n'%fname)\n",
    "\n",
    "    # load the things!\n",
    "    sess = tf.Session()\n",
    "    model = restore_tf_graph(sess, fname)\n",
    "\n",
    "    # get the correct op for executing actions\n",
    "    if deterministic and 'mu' in model.keys():\n",
    "        # 'deterministic' is only a valid option for SAC policies\n",
    "        print('Using deterministic action op.')\n",
    "        action_op = model['mu']\n",
    "    else:\n",
    "        print('Using default action op.')\n",
    "        action_op = model['pi']\n",
    "\n",
    "    # make function for producing an action given a single state\n",
    "    get_action = lambda x : sess.run(action_op, feed_dict={model['x']: x[None,:]})[0]\n",
    "\n",
    "    return get_action"
   ]
  },
  {
   "cell_type": "code",
   "execution_count": 113,
   "id": "5905a0c7-12ec-4207-ba08-048be0ff48b4",
   "metadata": {},
   "outputs": [],
   "source": [
    "def load_pytorch_policy(fpath, itr, deterministic=False):\n",
    "    \"\"\" Load a pytorch policy saved with Spinning Up Logger.\"\"\"\n",
    "    \n",
    "    fname = osp.join(fpath, 'pyt_save', 'model'+itr+'.pt')\n",
    "    print('\\n\\nLoading from %s.\\n\\n'%fname)\n",
    "\n",
    "    model = torch.load(fname)\n",
    "\n",
    "    # make function for producing an action given a single state\n",
    "    def get_action(x):\n",
    "        with torch.no_grad():\n",
    "            x = torch.as_tensor(x, dtype=torch.float32)\n",
    "            action = model.act(x)\n",
    "        return action\n",
    "\n",
    "    return get_action"
   ]
  },
  {
   "cell_type": "code",
   "execution_count": 114,
   "id": "e7de6359-4999-4796-8830-ac6897e3136c",
   "metadata": {},
   "outputs": [
    {
     "name": "stdout",
     "output_type": "stream",
     "text": [
      "\n",
      "\n",
      "Loading from /workspaces/play-spinningup-with-docker/spinningup/data/installtest/installtest_s0/pyt_save/model.pt.\n",
      "\n",
      "\n"
     ]
    },
    {
     "name": "stderr",
     "output_type": "stream",
     "text": [
      "/usr/local/pip-global/gym/logger.py:30: UserWarning: \u001b[33mWARN: Box bound precision lowered by casting to float32\u001b[0m\n",
      "  warnings.warn(colorize('%s: %s'%('WARN', msg % args), 'yellow'))\n"
     ]
    }
   ],
   "source": [
    "\"\"\"\n",
    "Load a policy from save, whether it's TF or PyTorch, along with RL env.\n",
    "\n",
    "Not exceptionally future-proof, but it will suffice for basic uses of the \n",
    "Spinning Up implementations.\n",
    "\n",
    "Checks to see if there's a tf1_save folder. If yes, assumes the model\n",
    "is tensorflow and loads it that way. Otherwise, loads as if there's a \n",
    "PyTorch save.\n",
    "\"\"\"\n",
    "\n",
    "# determine if tf save or pytorch save\n",
    "if any(['tf1_save' in x for x in os.listdir(fpath)]):\n",
    "    backend = 'tf1'\n",
    "else:\n",
    "    backend = 'pytorch'\n",
    "\n",
    "# handle which epoch to load from\n",
    "if itr=='last':\n",
    "    # check filenames for epoch (AKA iteration) numbers, find maximum value\n",
    "\n",
    "    if backend == 'tf1':\n",
    "        saves = [int(x[8:]) for x in os.listdir(fpath) if 'tf1_save' in x and len(x)>8]\n",
    "\n",
    "    elif backend == 'pytorch':\n",
    "        pytsave_path = osp.join(fpath, 'pyt_save')\n",
    "        # Each file in this folder has naming convention 'modelXX.pt', where\n",
    "        # 'XX' is either an integer or empty string. Empty string case\n",
    "        # corresponds to len(x)==8, hence that case is excluded.\n",
    "        saves = [int(x.split('.')[0][5:]) for x in os.listdir(pytsave_path) if len(x)>8 and 'model' in x]\n",
    "\n",
    "    itr = '%d'%max(saves) if len(saves) > 0 else ''\n",
    "\n",
    "else:\n",
    "    assert isinstance(itr, int), \\\n",
    "        \"Bad value provided for itr (needs to be int or 'last').\"\n",
    "    itr = '%d'%itr\n",
    "\n",
    "# load the get_action function\n",
    "if backend == 'tf1':\n",
    "    get_action = load_tf_policy(fpath, itr, deterministic)\n",
    "else:\n",
    "    get_action = load_pytorch_policy(fpath, itr, deterministic)\n",
    "\n",
    "# try to load environment from save\n",
    "# (sometimes this will fail because the environment could not be pickled)\n",
    "try:\n",
    "    state = joblib.load(osp.join(fpath, 'vars'+itr+'.pkl'))\n",
    "    env = state['env']\n",
    "except:\n",
    "    env = None"
   ]
  },
  {
   "cell_type": "code",
   "execution_count": 115,
   "id": "4107f374-cbb5-4159-ace2-33c9fecfda07",
   "metadata": {},
   "outputs": [
    {
     "name": "stdout",
     "output_type": "stream",
     "text": [
      "\u001b[32;1mLogging data to /tmp/experiments/1643519079/progress.txt\u001b[0m\n"
     ]
    }
   ],
   "source": [
    "max_ep_len = length\n",
    "num_episodes = episodes\n",
    "render = not(norender)\n",
    "\n",
    "logger = EpochLogger()"
   ]
  },
  {
   "cell_type": "code",
   "execution_count": 116,
   "id": "2683e176-8f2b-4a01-8c77-e4ba80a02c37",
   "metadata": {},
   "outputs": [
    {
     "data": {
      "image/png": "[encoded data removed]",
      "text/plain": [
       "<Figure size 432x288 with 1 Axes>"
      ]
     },
     "metadata": {
      "needs_background": "light"
     },
     "output_type": "display_data"
    }
   ],
   "source": [
    "assert env is not None, \\\n",
    "    \"Environment not found!\\n\\n It looks like the environment wasn't saved, \" + \\\n",
    "    \"and we can't run the agent in it. :( \\n\\n Check out the readthedocs \" + \\\n",
    "    \"page on Experiment Outputs for how to handle this situation.\"\n",
    "\n",
    "%matplotlib inline\n",
    "o, r, d, ep_ret, ep_len, n = env.reset(), 0, False, 0, 0, 0\n",
    "img = plt.imshow(env.render(mode='rgb_array'))\n",
    "results_plot = []\n",
    "while n < num_episodes:\n",
    "    if render:\n",
    "        img.set_data(env.render(mode='rgb_array'))\n",
    "        plt.axis('off')\n",
    "        display.display(plt.gcf())\n",
    "        display.clear_output(wait=True)\n",
    "        time.sleep(1e-3)\n",
    "\n",
    "    a = get_action(o)\n",
    "    o, r, d, _ = env.step(a)\n",
    "    ep_ret += r\n",
    "    ep_len += 1\n",
    "\n",
    "    if d or (ep_len == max_ep_len):\n",
    "        logger.store(EpRet=ep_ret, EpLen=ep_len)\n",
    "        results_plot.append('Episode %d \\t EpRet %.3f \\t EpLen %d'%(n, ep_ret, ep_len))\n",
    "        o, r, d, ep_ret, ep_len = env.reset(), 0, False, 0, 0\n",
    "        n += 1"
   ]
  },
  {
   "cell_type": "code",
   "execution_count": 117,
   "id": "975f6f5e-3055-4b4f-90c7-3cb7882fdef8",
   "metadata": {},
   "outputs": [
    {
     "name": "stdout",
     "output_type": "stream",
     "text": [
      "Episode 0 \t EpRet -114.147 \t EpLen 560\n",
      "Episode 1 \t EpRet 127.228 \t EpLen 941\n",
      "Episode 2 \t EpRet 76.064 \t EpLen 1000\n",
      "-------------------------------------\n",
      "|    AverageEpRet |            29.7 |\n",
      "|        StdEpRet |             104 |\n",
      "|        MaxEpRet |             127 |\n",
      "|        MinEpRet |            -114 |\n",
      "|           EpLen |             834 |\n",
      "-------------------------------------\n"
     ]
    }
   ],
   "source": [
    "for result in results_plot:\n",
    "    print(result)\n",
    "\n",
    "logger.log_tabular('EpRet', with_min_and_max=True)\n",
    "logger.log_tabular('EpLen', average_only=True)\n",
    "logger.dump_tabular()"
   ]
  },
  {
   "cell_type": "code",
   "execution_count": null,
   "id": "b3c9a6fa-be8c-442b-af5f-fe508d70ba90",
   "metadata": {},
   "outputs": [],
   "source": []
  }
 ],
 "metadata": {
  "kernelspec": {
   "display_name": "Python 3",
   "language": "python",
   "name": "python3"
  },
  "language_info": {
   "codemirror_mode": {
    "name": "ipython",
    "version": 3
   },
   "file_extension": ".py",
   "mimetype": "text/x-python",
   "name": "python",
   "nbconvert_exporter": "python",
   "pygments_lexer": "ipython3",
   "version": "3.6.15"
  }
 },
 "nbformat": 4,
 "nbformat_minor": 5
}
