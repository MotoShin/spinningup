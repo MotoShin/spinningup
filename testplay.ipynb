{
 "cells": [
  {
   "cell_type": "markdown",
   "id": "d28f437d-17a9-4935-a82d-333550cc7ad3",
   "metadata": {},
   "source": [
    "## play spinningup\n",
    "spinningupのコードが実行できるかを確認する"
   ]
  },
  {
   "cell_type": "code",
   "execution_count": 6,
   "id": "08e74718-7340-4d82-bc30-09999a5b10eb",
   "metadata": {},
   "outputs": [],
   "source": [
    "from spinup.execute import Execute"
   ]
  },
  {
   "cell_type": "code",
   "execution_count": 7,
   "id": "8eb0e75a-9e24-402a-bf21-1e4650c0d958",
   "metadata": {},
   "outputs": [],
   "source": [
    "execute = Execute(\"ppo\", \"--hid [32,32] --env LunarLander-v2 --exp_name installtest --gamma 0.999\")"
   ]
  },
  {
   "cell_type": "code",
   "execution_count": 14,
   "id": "f163d493-4ee8-4362-a425-416c096dc7ca",
   "metadata": {},
   "outputs": [
    {
     "name": "stdout",
     "output_type": "stream",
     "text": [
      "\n",
      "\n",
      "Using default backend (pytorch) for ppo.\n",
      "\n",
      "================================================================================\n",
      "\u001b[32;1mExperimentGrid [installtest] runs over parameters:\n",
      "\u001b[0m\n",
      " \u001b[36;1mgamma                                   \u001b[0m [gam] \n",
      "\n",
      "\t0.999\n",
      "\n",
      " \u001b[36;1menv_name                                \u001b[0m [env] \n",
      "\n",
      "\tLunarLander-v2\n",
      "\n",
      " \u001b[36;1mac_kwargs:hidden_sizes                  \u001b[0m [ac-hid] \n",
      "\n",
      "\t[32, 32]\n",
      "\n",
      " Variants, counting seeds:               1\n",
      " Variants, not counting seeds:           1\n",
      "\n",
      "================================================================================\n",
      "\n",
      "\u001b[32;1mPreparing to run the following experiments...\u001b[0m\n",
      "\n",
      "installtest\n",
      "\n",
      "================================================================================\n",
      "\u001b[36;1m\n",
      "Launch delayed to give you a few seconds to review your experiments.\n",
      "\n",
      "To customize or disable this behavior, change WAIT_BEFORE_LAUNCH in\n",
      "spinup/user_config.py.\n",
      "\n",
      "\u001b[0m================================================================================\n"
     ]
    },
    {
     "name": "stderr",
     "output_type": "stream",
     "text": [
      "                                                                                \r"
     ]
    },
    {
     "name": "stdout",
     "output_type": "stream",
     "text": [
      "\u001b[36;1mRunning experiment:\n",
      "\u001b[0m\n",
      "installtest\n",
      "\n",
      "\u001b[36;1mwith kwargs:\n",
      "\u001b[0m\n",
      "{\n",
      "    \"ac_kwargs\":\t{\n",
      "        \"hidden_sizes\":\t[\n",
      "            32,\n",
      "            32\n",
      "        ]\n",
      "    },\n",
      "    \"env_name\":\t\"LunarLander-v2\",\n",
      "    \"gamma\":\t0.999,\n",
      "    \"seed\":\t0\n",
      "}\n",
      "\n",
      "\n",
      "\n",
      "\n",
      "\n",
      "\n",
      "\n",
      "================================================================================\n",
      "End of experiment.\n",
      "\n",
      "\n",
      "Plot results from this run with:\n",
      "\n",
      "\u001b[32mpython -m spinup.run plot /workspaces/play-spinningup-with-docker/spinningup/data/installtest/installtest_s0\u001b[0m\n",
      "\n",
      "\n",
      "Watch the trained agent with:\n",
      "\n",
      "\u001b[32mpython -m spinup.run test_policy /workspaces/play-spinningup-with-docker/spinningup/data/installtest/installtest_s0\u001b[0m\n",
      "\n",
      "\n",
      "================================================================================\n",
      "\n",
      "\n",
      "\n",
      "\n",
      "\n"
     ]
    }
   ],
   "source": [
    "execute.run()"
   ]
  },
  {
   "cell_type": "markdown",
   "id": "67dc1341-464a-48ec-8d98-65b53be94870",
   "metadata": {},
   "source": [
    "## plot\n",
    "[結果をplotするnotebook](./plot.ipynb)"
   ]
  },
  {
   "cell_type": "markdown",
   "id": "149c293e-bf44-44f0-9ee2-dc056f05d01a",
   "metadata": {},
   "source": [
    "## test policy\n",
    "[policyをテストするnotebook](./testpolicy.ipynb)"
   ]
  }
 ],
 "metadata": {
  "kernelspec": {
   "display_name": "Python 3",
   "language": "python",
   "name": "python3"
  },
  "language_info": {
   "codemirror_mode": {
    "name": "ipython",
    "version": 3
   },
   "file_extension": ".py",
   "mimetype": "text/x-python",
   "name": "python",
   "nbconvert_exporter": "python",
   "pygments_lexer": "ipython3",
   "version": "3.6.15"
  }
 },
 "nbformat": 4,
 "nbformat_minor": 5
}
